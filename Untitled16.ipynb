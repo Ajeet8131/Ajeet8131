{
  "nbformat": 4,
  "nbformat_minor": 0,
  "metadata": {
    "colab": {
      "provenance": [],
      "authorship_tag": "ABX9TyPLBambWE2CqW3Riw7SWodv",
      "include_colab_link": true
    },
    "kernelspec": {
      "name": "python3",
      "display_name": "Python 3"
    },
    "language_info": {
      "name": "python"
    }
  },
  "cells": [
    {
      "cell_type": "markdown",
      "metadata": {
        "id": "view-in-github",
        "colab_type": "text"
      },
      "source": [
        "<a href=\"https://colab.research.google.com/github/Ajeet8131/Ajeet8131/blob/main/Untitled16.ipynb\" target=\"_parent\"><img src=\"https://colab.research.google.com/assets/colab-badge.svg\" alt=\"Open In Colab\"/></a>"
      ]
    },
    {
      "cell_type": "code",
      "execution_count": 1,
      "metadata": {
        "colab": {
          "base_uri": "https://localhost:8080/"
        },
        "id": "Vc6CjJrHCQhi",
        "outputId": "e4a196c5-4064-4f13-c8e6-a4f64ed360f1"
      },
      "outputs": [
        {
          "output_type": "stream",
          "name": "stdout",
          "text": [
            "Requirement already satisfied: requests in /usr/local/lib/python3.11/dist-packages (2.32.3)\n",
            "Requirement already satisfied: charset-normalizer<4,>=2 in /usr/local/lib/python3.11/dist-packages (from requests) (3.4.1)\n",
            "Requirement already satisfied: idna<4,>=2.5 in /usr/local/lib/python3.11/dist-packages (from requests) (3.10)\n",
            "Requirement already satisfied: urllib3<3,>=1.21.1 in /usr/local/lib/python3.11/dist-packages (from requests) (2.3.0)\n",
            "Requirement already satisfied: certifi>=2017.4.17 in /usr/local/lib/python3.11/dist-packages (from requests) (2025.1.31)\n"
          ]
        }
      ],
      "source": [
        "pip install requests"
      ]
    },
    {
      "cell_type": "code",
      "source": [
        "!pip install requests\n",
        "import requests\n",
        "import os\n",
        "# Your ElevenLab API key\n",
        "API_KEY = \"sk_85cf39c0730d4d6f4a66bdb2ce5a39f1d278c0f8583f1ec4\"\n",
        "\n",
        "# ElevenLabs API details\n",
        "VOICE_ID = \"hGb0Exk8cp4vQEnwolxa\"\n",
        "TEXT = input(\"Enter the text you want to convert to speech: \")  #take the input from user\n",
        "OUTPUT_FILE = \"output.mp3\"\n",
        "\n",
        "# API Endpoint\n",
        "url = f\"https://api.elevenlabs.io/v1/text-to-speech/{VOICE_ID}\"\n",
        "\n",
        "headers = {\n",
        "    \"xi-api-key\": API_KEY,\n",
        "    \"Content-Type\": \"application/json\"\n",
        "}\n",
        "\n",
        "data = {\n",
        "    \"text\": TEXT,\n",
        "    \"voice_settings\": {\n",
        "        \"stability\": 0.33,\n",
        "        \"similarity_boost\": 0.09\n",
        "    },\n",
        "    \"speed\": 1.00\n",
        "}\n",
        "\n",
        "# Sending the request\n",
        "response = requests.post(url, json=data, headers=headers)\n",
        "\n",
        "# Saving and playing the output file\n",
        "if response.status_code == 200:\n",
        "    with open(OUTPUT_FILE, \"wb\") as f:\n",
        "        f.write(response.content)\n",
        "    print(f\"Audio saved as {OUTPUT_FILE}\")\n",
        "else:\n",
        "    print(f\"Request failed with status code: {response.status_code}\")\n",
        "    print(response.text)\n",
        "\n",
        "\n",
        "from google.colab import files\n",
        "# Only attempt to download the file if it was successfully created.\n",
        "if os.path.exists(OUTPUT_FILE):\n",
        "  files.download(OUTPUT_FILE) # Download the output file using the variable name.\n",
        "else:\n",
        "  print(f\"The file {OUTPUT_FILE} was not created due to the API error. Please check the error message above.\")"
      ],
      "metadata": {
        "colab": {
          "base_uri": "https://localhost:8080/",
          "height": 158
        },
        "id": "Wb4u0muSCXJ5",
        "outputId": "888eebb6-7750-4237-8f04-3f73a2941bd9"
      },
      "execution_count": 5,
      "outputs": [
        {
          "output_type": "stream",
          "name": "stdout",
          "text": [
            "Requirement already satisfied: requests in /usr/local/lib/python3.11/dist-packages (2.32.3)\n",
            "Requirement already satisfied: charset-normalizer<4,>=2 in /usr/local/lib/python3.11/dist-packages (from requests) (3.4.1)\n",
            "Requirement already satisfied: idna<4,>=2.5 in /usr/local/lib/python3.11/dist-packages (from requests) (3.10)\n",
            "Requirement already satisfied: urllib3<3,>=1.21.1 in /usr/local/lib/python3.11/dist-packages (from requests) (2.3.0)\n",
            "Requirement already satisfied: certifi>=2017.4.17 in /usr/local/lib/python3.11/dist-packages (from requests) (2025.1.31)\n",
            "Enter the text you want to convert to speech: Delhi, India’s capital territory, is a massive metropolitan area in the country’s north. In Old Delhi, a neighborhood dating to the 1600s, stands the imposing Mughal-era Red Fort, a symbol of India, and the sprawling Jama Masjid mosque, whose courtyard accommodates 25,000 people.\n",
            "Audio saved as output.mp3\n"
          ]
        },
        {
          "output_type": "display_data",
          "data": {
            "text/plain": [
              "<IPython.core.display.Javascript object>"
            ],
            "application/javascript": [
              "\n",
              "    async function download(id, filename, size) {\n",
              "      if (!google.colab.kernel.accessAllowed) {\n",
              "        return;\n",
              "      }\n",
              "      const div = document.createElement('div');\n",
              "      const label = document.createElement('label');\n",
              "      label.textContent = `Downloading \"${filename}\": `;\n",
              "      div.appendChild(label);\n",
              "      const progress = document.createElement('progress');\n",
              "      progress.max = size;\n",
              "      div.appendChild(progress);\n",
              "      document.body.appendChild(div);\n",
              "\n",
              "      const buffers = [];\n",
              "      let downloaded = 0;\n",
              "\n",
              "      const channel = await google.colab.kernel.comms.open(id);\n",
              "      // Send a message to notify the kernel that we're ready.\n",
              "      channel.send({})\n",
              "\n",
              "      for await (const message of channel.messages) {\n",
              "        // Send a message to notify the kernel that we're ready.\n",
              "        channel.send({})\n",
              "        if (message.buffers) {\n",
              "          for (const buffer of message.buffers) {\n",
              "            buffers.push(buffer);\n",
              "            downloaded += buffer.byteLength;\n",
              "            progress.value = downloaded;\n",
              "          }\n",
              "        }\n",
              "      }\n",
              "      const blob = new Blob(buffers, {type: 'application/binary'});\n",
              "      const a = document.createElement('a');\n",
              "      a.href = window.URL.createObjectURL(blob);\n",
              "      a.download = filename;\n",
              "      div.appendChild(a);\n",
              "      a.click();\n",
              "      div.remove();\n",
              "    }\n",
              "  "
            ]
          },
          "metadata": {}
        },
        {
          "output_type": "display_data",
          "data": {
            "text/plain": [
              "<IPython.core.display.Javascript object>"
            ],
            "application/javascript": [
              "download(\"download_8966ff5f-2a74-4bf7-86d7-8256eb673090\", \"output.mp3\", 335621)"
            ]
          },
          "metadata": {}
        }
      ]
    }
  ]
}